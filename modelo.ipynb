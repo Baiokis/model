{
  "cells": [
    {
      "cell_type": "code",
      "execution_count": 1,
      "metadata": {},
      "outputs": [
        {
          "name": "stdout",
          "output_type": "stream",
          "text": [
            "Requirement already satisfied: roboflow in c:\\users\\aut-5055\\appdata\\local\\anaconda3\\lib\\site-packages (1.1.49)\n",
            "Requirement already satisfied: certifi in c:\\users\\aut-5055\\appdata\\local\\anaconda3\\lib\\site-packages (from roboflow) (2024.6.2)\n",
            "Requirement already satisfied: idna==3.7 in c:\\users\\aut-5055\\appdata\\local\\anaconda3\\lib\\site-packages (from roboflow) (3.7)\n",
            "Requirement already satisfied: cycler in c:\\users\\aut-5055\\appdata\\local\\anaconda3\\lib\\site-packages (from roboflow) (0.11.0)\n",
            "Requirement already satisfied: kiwisolver>=1.3.1 in c:\\users\\aut-5055\\appdata\\local\\anaconda3\\lib\\site-packages (from roboflow) (1.4.4)\n",
            "Requirement already satisfied: matplotlib in c:\\users\\aut-5055\\appdata\\local\\anaconda3\\lib\\site-packages (from roboflow) (3.8.0)\n",
            "Requirement already satisfied: numpy>=1.18.5 in c:\\users\\aut-5055\\appdata\\local\\anaconda3\\lib\\site-packages (from roboflow) (1.26.4)\n",
            "Collecting opencv-python-headless==4.10.0.84 (from roboflow)\n",
            "  Using cached opencv_python_headless-4.10.0.84-cp37-abi3-win_amd64.whl.metadata (20 kB)\n",
            "Requirement already satisfied: Pillow>=7.1.2 in c:\\users\\aut-5055\\appdata\\local\\anaconda3\\lib\\site-packages (from roboflow) (10.2.0)\n",
            "Requirement already satisfied: python-dateutil in c:\\users\\aut-5055\\appdata\\local\\anaconda3\\lib\\site-packages (from roboflow) (2.8.2)\n",
            "Requirement already satisfied: python-dotenv in c:\\users\\aut-5055\\appdata\\local\\anaconda3\\lib\\site-packages (from roboflow) (0.21.0)\n",
            "Requirement already satisfied: requests in c:\\users\\aut-5055\\appdata\\local\\anaconda3\\lib\\site-packages (from roboflow) (2.31.0)\n",
            "Requirement already satisfied: six in c:\\users\\aut-5055\\appdata\\local\\anaconda3\\lib\\site-packages (from roboflow) (1.16.0)\n",
            "Requirement already satisfied: urllib3>=1.26.6 in c:\\users\\aut-5055\\appdata\\local\\anaconda3\\lib\\site-packages (from roboflow) (1.26.19)\n",
            "Requirement already satisfied: tqdm>=4.41.0 in c:\\users\\aut-5055\\appdata\\local\\anaconda3\\lib\\site-packages (from roboflow) (4.65.0)\n",
            "Requirement already satisfied: PyYAML>=5.3.1 in c:\\users\\aut-5055\\appdata\\local\\anaconda3\\lib\\site-packages (from roboflow) (6.0.1)\n",
            "Requirement already satisfied: requests-toolbelt in c:\\users\\aut-5055\\appdata\\local\\anaconda3\\lib\\site-packages (from roboflow) (1.0.0)\n",
            "Requirement already satisfied: filetype in c:\\users\\aut-5055\\appdata\\local\\anaconda3\\lib\\site-packages (from roboflow) (1.2.0)\n",
            "Requirement already satisfied: colorama in c:\\users\\aut-5055\\appdata\\local\\anaconda3\\lib\\site-packages (from tqdm>=4.41.0->roboflow) (0.4.6)\n",
            "Requirement already satisfied: contourpy>=1.0.1 in c:\\users\\aut-5055\\appdata\\local\\anaconda3\\lib\\site-packages (from matplotlib->roboflow) (1.2.0)\n",
            "Requirement already satisfied: fonttools>=4.22.0 in c:\\users\\aut-5055\\appdata\\local\\anaconda3\\lib\\site-packages (from matplotlib->roboflow) (4.25.0)\n",
            "Requirement already satisfied: packaging>=20.0 in c:\\users\\aut-5055\\appdata\\local\\anaconda3\\lib\\site-packages (from matplotlib->roboflow) (23.1)\n",
            "Requirement already satisfied: pyparsing>=2.3.1 in c:\\users\\aut-5055\\appdata\\local\\anaconda3\\lib\\site-packages (from matplotlib->roboflow) (3.0.9)\n",
            "Requirement already satisfied: charset-normalizer<4,>=2 in c:\\users\\aut-5055\\appdata\\local\\anaconda3\\lib\\site-packages (from requests->roboflow) (2.0.4)\n",
            "Using cached opencv_python_headless-4.10.0.84-cp37-abi3-win_amd64.whl (38.8 MB)\n",
            "Installing collected packages: opencv-python-headless\n",
            "Successfully installed opencv-python-headless-4.10.0.84\n",
            "Note: you may need to restart the kernel to use updated packages.\n",
            "loading Roboflow workspace...\n",
            "loading Roboflow project...\n"
          ]
        },
        {
          "name": "stderr",
          "output_type": "stream",
          "text": [
            "Downloading Dataset Version Zip in EPI-3 to yolov9:: 100%|██████████| 31633/31633 [00:02<00:00, 13110.64it/s]"
          ]
        },
        {
          "name": "stdout",
          "output_type": "stream",
          "text": [
            "\n"
          ]
        },
        {
          "name": "stderr",
          "output_type": "stream",
          "text": [
            "\n",
            "Extracting Dataset Version Zip to EPI-3 in yolov9:: 100%|██████████| 1184/1184 [00:02<00:00, 494.08it/s]\n"
          ]
        }
      ],
      "source": [
        "%pip install roboflow\n",
        "\n",
        "from roboflow import Roboflow\n",
        "rf = Roboflow(api_key=\"ma4uwwnTIDfJ567zH2gL\")\n",
        "project = rf.workspace(\"augusto-de-lara-projects\").project(\"epi-1qrdw\")\n",
        "version = project.version(3)\n",
        "dataset = version.download(\"yolov9\")\n",
        "                "
      ]
    }
  ],
  "metadata": {
    "colab": {
      "provenance": [],
      "toc_visible": true
    },
    "kernelspec": {
      "display_name": "Python 3",
      "name": "python3"
    },
    "language_info": {
      "codemirror_mode": {
        "name": "ipython",
        "version": 3
      },
      "file_extension": ".py",
      "mimetype": "text/x-python",
      "name": "python",
      "nbconvert_exporter": "python",
      "pygments_lexer": "ipython3",
      "version": "3.11.7"
    }
  },
  "nbformat": 4,
  "nbformat_minor": 0
}
