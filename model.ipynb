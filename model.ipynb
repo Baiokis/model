{
 "cells": [
  {
   "cell_type": "code",
   "execution_count": null,
   "metadata": {
    "colab": {
     "base_uri": "https://localhost:8080/"
    },
    "id": "nSZ54xiU8P3w",
    "outputId": "cf0882ae-3daf-450f-bade-9dcd7cea4767"
   },
   "outputs": [],
   "source": [
    "%pip install roboflow\n",
    "%pip install ultralytics\n",
    "\n",
    "\n",
    "from roboflow import Roboflow\n",
    "rf = Roboflow(api_key=\"ma4uwwnTIDfJ567zH2gL\")\n",
    "project = rf.workspace(\"personal-protective-equipment\").project(\"ppes-kaxsi\")\n",
    "version = project.version(8)\n",
    "dataset = version.download(\"yolov9\")"
   ]
  },
  {
   "cell_type": "code",
   "execution_count": null,
   "metadata": {
    "colab": {
     "base_uri": "https://localhost:8080/"
    },
    "id": "O5LnXPY980Fa",
    "outputId": "398e3c4e-98b0-4b0c-fcbe-d85e9f400e8b"
   },
   "outputs": [],
   "source": [
    "from ultralytics import YOLO # type: ignore\n",
    "\n",
    "model = YOLO('yolov8n.pt')\n",
    "\n",
    "try:\n",
    "    model.train(data='PPEs-8/data.yaml', epochs=1, imgsz=640, batch=16)\n",
    "    print(\"Dataset carregado corretamente!\")\n",
    "except Exception as e:\n",
    "    print(f\"Erro ao carregar dataset: {e}\")\n",
    "\n",
    "\n",
    "predictions = model.predict(source='woman.jpg', conf=0.1, save=True, save_dir='results')"
   ]
  },
  {
   "cell_type": "code",
   "execution_count": 2,
   "metadata": {},
   "outputs": [
    {
     "name": "stdout",
     "output_type": "stream",
     "text": [
      "True\n"
     ]
    }
   ],
   "source": [
    "import torch\n",
    "print(torch.cuda.is_available())\n"
   ]
  },
  {
   "cell_type": "code",
   "execution_count": null,
   "metadata": {},
   "outputs": [],
   "source": [
    "from ultralytics import YOLO  # type: ignore\n",
    "import torch\n",
    "\n",
    "device = 'cuda' if torch.cuda.is_available() else 'cpu'\n",
    "print(f\"Usando o dispositivo: {device}\")\n",
    "\n",
    "model = YOLO('yolov8n.pt')\n",
    "\n",
    "try:\n",
    "    model.train(data='PPEs-8/data.yaml', epochs=1, imgsz=640, batch=16, device=device)\n",
    "    print(\"Treinamento concluído com sucesso!\")\n",
    "except Exception as e:\n",
    "    print(f\"Erro durante o treinamento: {e}\")\n",
    "\n",
    "try:\n",
    "    predictions = model.predict(\n",
    "        source='woman.jpg',\n",
    "        conf=0.1,\n",
    "        save=True,\n",
    "        save_dir='results',\n",
    "        device=device\n",
    "    )\n",
    "    print(\"Predições concluídas e salvas em 'results'!\")\n",
    "except Exception as e:\n",
    "    print(f\"Erro durante a predição: {e}\")\n"
   ]
  },
  {
   "cell_type": "code",
   "execution_count": null,
   "metadata": {
    "colab": {
     "base_uri": "https://localhost:8080/",
     "height": 1000
    },
    "id": "3bpycnc_dg1j",
    "outputId": "c908b2ca-f668-48a0-90a6-0f54bb76b30d"
   },
   "outputs": [],
   "source": [
    "\n",
    "device = 'cuda' if torch.cuda.is_available() else 'cpu'\n",
    "print(f\"Usando o dispositivo: {device}\")\n",
    "\n",
    "try:\n",
    "    model.train(\n",
    "        data='PPEs-8/data.yaml',\n",
    "        epochs=100,\n",
    "        imgsz=800,\n",
    "        batch=8,\n",
    "        lr0=0.001,\n",
    "        freeze=10,\n",
    "        hsv_h=0.015,\n",
    "        hsv_s=0.7,\n",
    "        hsv_v=0.4,\n",
    "        degrees=0.5,\n",
    "        translate=0.1,\n",
    "        scale=0.5,\n",
    "        shear=0.5,\n",
    "        flipud=0.5,\n",
    "        fliplr=0.5,\n",
    "        save_period=10,\n",
    "        val=True,\n",
    "        device=device \n",
    "    )\n",
    "    print(\"Treinamento concluído com sucesso!\")\n",
    "except Exception as e:\n",
    "    print(f\"Erro durante o treinamento: {e}\")\n",
    "\n",
    "try:\n",
    "    results = model.val(device=device)\n",
    "    print(\"Validação concluída com sucesso!\")\n",
    "except Exception as e:\n",
    "    print(f\"Erro durante a validação: {e}\")\n"
   ]
  },
  {
   "cell_type": "code",
   "execution_count": null,
   "metadata": {},
   "outputs": [],
   "source": [
    "from ultralytics import YOLO  # type: ignore\n",
    "import torch\n",
    "\n",
    "device = 'cuda' if torch.cuda.is_available() else 'cpu'\n",
    "print(f\"Usando o dispositivo: {device}\")\n",
    "\n",
    "try:\n",
    "    model.train(\n",
    "        data='PPEs-8/data.yaml',\n",
    "        epochs=125,          \n",
    "        imgsz=800,\n",
    "        batch=16,            \n",
    "        lr0=0.0005,           \n",
    "        lrf=0.01,            \n",
    "        freeze=10,\n",
    "        hsv_h=0.015,\n",
    "        hsv_s=0.7,\n",
    "        hsv_v=0.4,\n",
    "        degrees=0.5,\n",
    "        translate=0.1,\n",
    "        scale=0.5,\n",
    "        shear=0.5,\n",
    "        flipud=0.5,\n",
    "        fliplr=0.5,\n",
    "        save_period=50,      \n",
    "        val=True,\n",
    "        device=device         \n",
    "    )\n",
    "    print(\"Treinamento concluído com sucesso!\")\n",
    "except Exception as e:\n",
    "    print(f\"Erro durante o treinamento: {e}\")\n",
    "\n",
    "try:\n",
    "    results = model.val(device=device)\n",
    "    print(\"Validação concluída com sucesso!\")\n",
    "    print(results)\n",
    "except Exception as e:\n",
    "    print(f\"Erro durante a validação: {e}\")\n"
   ]
  },
  {
   "cell_type": "code",
   "execution_count": 11,
   "metadata": {},
   "outputs": [
    {
     "name": "stdout",
     "output_type": "stream",
     "text": [
      "\n",
      "image 1/1 /home/autvix/Documents/code/model/woman.jpg: 544x640 1 person, 1.9ms\n",
      "Speed: 0.9ms preprocess, 1.9ms inference, 0.5ms postprocess per image at shape (1, 3, 544, 640)\n",
      "Classes detectadas: tensor([0.], device='cuda:0')\n",
      "Confiança: tensor([0.9375], device='cuda:0')\n",
      "Coordenadas: tensor([[340.5427, 148.8357, 885.9542, 773.5018]], device='cuda:0')\n"
     ]
    },
    {
     "data": {
      "text/plain": [
       "array([[[154, 145, 132],\n",
       "        [154, 145, 132],\n",
       "        [154, 145, 132],\n",
       "        ...,\n",
       "        [143, 131, 113],\n",
       "        [143, 131, 113],\n",
       "        [143, 131, 113]],\n",
       "\n",
       "       [[153, 144, 131],\n",
       "        [153, 144, 131],\n",
       "        [154, 145, 132],\n",
       "        ...,\n",
       "        [143, 131, 113],\n",
       "        [142, 130, 112],\n",
       "        [142, 130, 112]],\n",
       "\n",
       "       [[153, 144, 131],\n",
       "        [153, 144, 131],\n",
       "        [153, 144, 131],\n",
       "        ...,\n",
       "        [142, 130, 112],\n",
       "        [141, 129, 111],\n",
       "        [141, 129, 111]],\n",
       "\n",
       "       ...,\n",
       "\n",
       "       [[217, 208, 194],\n",
       "        [217, 208, 194],\n",
       "        [217, 208, 194],\n",
       "        ...,\n",
       "        [216, 204, 186],\n",
       "        [216, 204, 186],\n",
       "        [216, 204, 186]],\n",
       "\n",
       "       [[217, 208, 194],\n",
       "        [217, 208, 194],\n",
       "        [217, 208, 194],\n",
       "        ...,\n",
       "        [216, 204, 186],\n",
       "        [216, 204, 186],\n",
       "        [216, 204, 186]],\n",
       "\n",
       "       [[217, 208, 194],\n",
       "        [217, 208, 194],\n",
       "        [217, 208, 194],\n",
       "        ...,\n",
       "        [216, 204, 186],\n",
       "        [216, 204, 186],\n",
       "        [216, 204, 186]]], dtype=uint8)"
      ]
     },
     "execution_count": 11,
     "metadata": {},
     "output_type": "execute_result"
    }
   ],
   "source": [
    "import numpy as np\n",
    "\n",
    "model = YOLO('yolov8n.pt')\n",
    "\n",
    "image_path = 'woman.jpg'\n",
    "\n",
    "results = model(image_path)\n",
    "\n",
    "for result in results:\n",
    "    print(\"Classes detectadas:\", result.boxes.cls) \n",
    "    print(\"Confiança:\", result.boxes.conf)  \n",
    "    print(\"Coordenadas:\", result.boxes.xyxy)  \n",
    "\n",
    "results[0].plot(show=True)\n"
   ]
  }
 ],
 "metadata": {
  "accelerator": "GPU",
  "colab": {
   "gpuType": "T4",
   "provenance": []
  },
  "kernelspec": {
   "display_name": "base",
   "language": "python",
   "name": "python3"
  },
  "language_info": {
   "codemirror_mode": {
    "name": "ipython",
    "version": 3
   },
   "file_extension": ".py",
   "mimetype": "text/x-python",
   "name": "python",
   "nbconvert_exporter": "python",
   "pygments_lexer": "ipython3",
   "version": "3.12.4"
  }
 },
 "nbformat": 4,
 "nbformat_minor": 0
}
